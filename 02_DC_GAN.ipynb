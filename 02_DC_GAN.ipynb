{
  "nbformat": 4,
  "nbformat_minor": 0,
  "metadata": {
    "colab": {
      "name": "20210109_DC_GAN.ipynb",
      "provenance": [],
      "collapsed_sections": []
    },
    "kernelspec": {
      "name": "python3",
      "display_name": "Python 3"
    }
  },
  "cells": [
    {
      "cell_type": "markdown",
      "metadata": {
        "id": "VGcbR8oUbi6r"
      },
      "source": [
        "### ライブラリのインストール"
      ]
    },
    {
      "cell_type": "code",
      "metadata": {
        "id": "YGJjpKhGbkr-"
      },
      "source": [
        ""
      ],
      "execution_count": null,
      "outputs": []
    },
    {
      "cell_type": "markdown",
      "metadata": {
        "id": "gL5l7TEvbmgR"
      },
      "source": [
        "### ライブラリのインポート"
      ]
    },
    {
      "cell_type": "code",
      "metadata": {
        "id": "C_Z_WMtnbl9Q"
      },
      "source": [
        "import random\r\n",
        "import os\r\n",
        "\r\n",
        "import numpy as np\r\n",
        "import matplotlib.pyplot as plt\r\n",
        "\r\n",
        "import requests\r\n",
        "import scipy\r\n",
        "import gzip\r\n",
        "from scipy.io import loadmat\r\n",
        "\r\n",
        "import tensorflow as tf\r\n",
        "import keras\r\n",
        "from keras.layers import Input\r\n",
        "from tensorflow.keras.layers import Input, Conv2D, Flatten, Dense, Conv2DTranspose, Reshape, Lambda, Activation, BatchNormalization, LeakyReLU, Dropout, ZeroPadding2D, UpSampling2D\r\n",
        "\r\n",
        "from IPython.display import display\r\n",
        "\r\n",
        "import warnings\r\n",
        "warnings.simplefilter('ignore')"
      ],
      "execution_count": null,
      "outputs": []
    },
    {
      "cell_type": "markdown",
      "metadata": {
        "id": "TzGmiYMScoPp"
      },
      "source": [
        "#### Tensorflow のバージョン確認 # 作成時は 2.4.0"
      ]
    },
    {
      "cell_type": "code",
      "metadata": {
        "colab": {
          "base_uri": "https://localhost:8080/"
        },
        "id": "x4i-7F6AcnfB",
        "outputId": "3a8ed804-b5ea-4a9e-dd6f-ec8a870e4860"
      },
      "source": [
        "print(tf.__version__)"
      ],
      "execution_count": null,
      "outputs": [
        {
          "output_type": "stream",
          "text": [
            "2.4.0\n"
          ],
          "name": "stdout"
        }
      ]
    },
    {
      "cell_type": "markdown",
      "metadata": {
        "id": "tA8KEx-zc2RR"
      },
      "source": [
        "### シード値の固定"
      ]
    },
    {
      "cell_type": "code",
      "metadata": {
        "id": "Lv0FtGSIczxU"
      },
      "source": [
        "def set_seed(seed):\r\n",
        "    tf.random.set_seed(seed)\r\n",
        "    np.random.seed(seed)\r\n",
        "    random.seed(seed)\r\n",
        "    os.environ[\"PYTHONHASHSEED\"] = str(seed)"
      ],
      "execution_count": null,
      "outputs": []
    },
    {
      "cell_type": "code",
      "metadata": {
        "id": "AYBe3XbZc7aI"
      },
      "source": [
        "set_seed(42)"
      ],
      "execution_count": null,
      "outputs": []
    },
    {
      "cell_type": "markdown",
      "metadata": {
        "id": "oxa89ohNdTrG"
      },
      "source": [
        "### データセットのダウンロード"
      ]
    },
    {
      "cell_type": "code",
      "metadata": {
        "id": "FPnvF1Hdc_2v"
      },
      "source": [
        "# Street View Housing Data Set (http://ufldl.stanford.edu/housenumbers/) のダウンロード\r\n",
        "# test_32x32.matの自動ダウンロードに失敗するときは、URLから直接ダウンロード\r\n",
        "\r\n",
        "if os.path.isfile('train_32x32.mat') & os.path.isfile('test_32x32.mat'):\r\n",
        "    pass\r\n",
        "else:\r\n",
        "    url_train_data = \"http://ufldl.stanford.edu/housenumbers/train_32x32.mat\"\r\n",
        "    url_test_data = \"http://ufldl.stanford.edu/housenumbers/test_32x32.mat\"\r\n",
        "    train_filename = url_train_data.split('/')[-1]\r\n",
        "    test_filename = url_test_data.split('/')[-1]\r\n",
        "\r\n",
        "    r_train = requests.get(url_train_data, stream=True)\r\n",
        "    r_test = requests.get(url_test_data, stream=True)\r\n",
        "\r\n",
        "    with open(train_filename, 'wb') as f:\r\n",
        "        for chunk in r_train.iter_content(chunk_size=1024):\r\n",
        "            if chunk:\r\n",
        "                f.write(chunk)\r\n",
        "                f.flush()\r\n",
        "\r\n",
        "    with open(test_filename, 'wb') as f:\r\n",
        "        for chunk in r_test.iter_content(chunk_size=1024):\r\n",
        "            if chunk:\r\n",
        "                f.write(chunk)\r\n",
        "                f.flush()"
      ],
      "execution_count": null,
      "outputs": []
    },
    {
      "cell_type": "markdown",
      "metadata": {
        "id": "kQMfiVcGdv3m"
      },
      "source": [
        "### データセットの読込"
      ]
    },
    {
      "cell_type": "code",
      "metadata": {
        "id": "Ri0Do8mxdhC7"
      },
      "source": [
        "train = loadmat('train_32x32.mat')\r\n",
        "test = loadmat('test_32x32.mat')"
      ],
      "execution_count": null,
      "outputs": []
    },
    {
      "cell_type": "markdown",
      "metadata": {
        "id": "bNZtsS8brJ82"
      },
      "source": [
        "#### データセットの中身の確認"
      ]
    },
    {
      "cell_type": "code",
      "metadata": {
        "colab": {
          "base_uri": "https://localhost:8080/"
        },
        "id": "khV3jcPedzxB",
        "outputId": "4cf94666-0f66-4219-99bf-8b4178e2645a"
      },
      "source": [
        "print(type(train), type(test))"
      ],
      "execution_count": null,
      "outputs": [
        {
          "output_type": "stream",
          "text": [
            "<class 'dict'> <class 'dict'>\n"
          ],
          "name": "stdout"
        }
      ]
    },
    {
      "cell_type": "code",
      "metadata": {
        "colab": {
          "base_uri": "https://localhost:8080/"
        },
        "id": "mrHGHcxieOfp",
        "outputId": "a8e833c8-6224-4f78-d60c-1a6fed500c02"
      },
      "source": [
        "print(train.keys())\r\n",
        "print(test.keys())"
      ],
      "execution_count": null,
      "outputs": [
        {
          "output_type": "stream",
          "text": [
            "dict_keys(['__header__', '__version__', '__globals__', 'X', 'y'])\n",
            "dict_keys(['__header__', '__version__', '__globals__', 'X', 'y'])\n"
          ],
          "name": "stdout"
        }
      ]
    },
    {
      "cell_type": "code",
      "metadata": {
        "colab": {
          "base_uri": "https://localhost:8080/"
        },
        "id": "E5CsfR33eAr9",
        "outputId": "f7ee6c84-8193-4e94-e72b-4dae31a255e4"
      },
      "source": [
        "print(train[\"X\"].shape)\r\n",
        "print(test[\"X\"].shape)\r\n",
        "\r\n",
        "print(train[\"y\"].shape)\r\n",
        "print(test[\"y\"].shape)"
      ],
      "execution_count": null,
      "outputs": [
        {
          "output_type": "stream",
          "text": [
            "(32, 32, 3, 73257)\n",
            "(32, 32, 3, 26032)\n",
            "(73257, 1)\n",
            "(26032, 1)\n"
          ],
          "name": "stdout"
        }
      ]
    },
    {
      "cell_type": "code",
      "metadata": {
        "colab": {
          "base_uri": "https://localhost:8080/",
          "height": 674
        },
        "id": "gACbxYd8g6Il",
        "outputId": "f5c029b9-d06f-48d0-e281-ed0a8da62ade"
      },
      "source": [
        "print(\"X\")\r\n",
        "display(train[\"X\"][:1])\r\n",
        "print(\"y\")\r\n",
        "display(train[\"y\"][:10])"
      ],
      "execution_count": null,
      "outputs": [
        {
          "output_type": "stream",
          "text": [
            "X\n"
          ],
          "name": "stdout"
        },
        {
          "output_type": "display_data",
          "data": {
            "text/plain": [
              "array([[[[ 33,  84,  19, ...,  92, 190, 216],\n",
              "         [ 30,  76,  54, ...,  78, 188, 217],\n",
              "         [ 38,  59, 110, ..., 101, 191, 212]],\n",
              "\n",
              "        [[ 15,  86,  20, ...,  94, 205, 221],\n",
              "         [ 23,  73,  52, ...,  82, 203, 222],\n",
              "         [ 19,  66, 111, ..., 105, 206, 217]],\n",
              "\n",
              "        [[ 15,  77,  25, ..., 114, 220, 226],\n",
              "         [ 17,  78,  57, ..., 101, 218, 227],\n",
              "         [ 19,  56, 116, ..., 125, 220, 221]],\n",
              "\n",
              "        ...,\n",
              "\n",
              "        [[ 72,  90,  65, ..., 200, 229, 200],\n",
              "         [ 65,  78, 144, ..., 201, 231, 199],\n",
              "         [ 56,  69, 223, ..., 203, 224, 191]],\n",
              "\n",
              "        [[ 82,  88,  78, ..., 192, 229, 193],\n",
              "         [ 77,  77, 148, ..., 193, 229, 188],\n",
              "         [ 57,  67, 218, ..., 195, 224, 182]],\n",
              "\n",
              "        [[ 89,  88,  98, ..., 190, 229, 197],\n",
              "         [ 79,  78, 158, ..., 191, 228, 189],\n",
              "         [ 59,  66, 220, ..., 193, 223, 186]]]], dtype=uint8)"
            ]
          },
          "metadata": {
            "tags": []
          }
        },
        {
          "output_type": "stream",
          "text": [
            "y\n"
          ],
          "name": "stdout"
        },
        {
          "output_type": "display_data",
          "data": {
            "text/plain": [
              "array([[1],\n",
              "       [9],\n",
              "       [2],\n",
              "       [3],\n",
              "       [2],\n",
              "       [5],\n",
              "       [9],\n",
              "       [3],\n",
              "       [3],\n",
              "       [1]], dtype=uint8)"
            ]
          },
          "metadata": {
            "tags": []
          }
        }
      ]
    },
    {
      "cell_type": "code",
      "metadata": {
        "id": "OYuRKrEVhUDg",
        "colab": {
          "base_uri": "https://localhost:8080/",
          "height": 225
        },
        "outputId": "4b03a1e6-6794-416f-b059-d7acac636f50"
      },
      "source": [
        "plt.subplots_adjust(wspace=0, hspace=0)\r\n",
        "\r\n",
        "for i in range(10):\r\n",
        "    plt.subplot(2, 5, i+1)\r\n",
        "\r\n",
        "    # title に train[\"y\"]の値を使用\r\n",
        "    plt.title(train[\"y\"][i])\r\n",
        "\r\n",
        "    # X軸、Y軸の目盛りの記載の削除\r\n",
        "    plt.gca().xaxis.set_visible(False)\r\n",
        "    plt.gca().yaxis.set_visible(False)\r\n",
        "\r\n",
        "    # 画像の表示\r\n",
        "    plt.imshow(train[\"X\"][:,:,:,i])"
      ],
      "execution_count": null,
      "outputs": [
        {
          "output_type": "display_data",
          "data": {
            "image/png": "[encoded data removed]",
            "text/plain": [
              "<Figure size 432x288 with 10 Axes>"
            ]
          },
          "metadata": {
            "tags": [],
            "needs_background": "light"
          }
        }
      ]
    },
    {
      "cell_type": "markdown",
      "metadata": {
        "id": "fPzRS7BYuhaC"
      },
      "source": [
        "### 識別器（Discriminator）"
      ]
    },
    {
      "cell_type": "code",
      "metadata": {
        "id": "jB_YIn7onu1G"
      },
      "source": [
        "input_dim = 32\r\n",
        "num_layesrs_discriminator = \r\n"
      ],
      "execution_count": null,
      "outputs": []
    },
    {
      "cell_type": "code",
      "metadata": {
        "id": "TXBT2_tPvHru"
      },
      "source": [
        "discriminator_input = Input(\r\n",
        "    shape=input_dim,\r\n",
        "    name=\"discriminator_input\"\r\n",
        ")"
      ],
      "execution_count": null,
      "outputs": []
    },
    {
      "cell_type": "code",
      "metadata": {
        "id": "IF8Bw78WvSFQ"
      },
      "source": [
        "x = discriminator_input\r\n",
        "\r\n",
        "for i in range(len(num_layesrs_discriminator)):\r\n",
        "\r\n",
        "    x = Conv2D(\r\n",
        "        filters = ,\r\n",
        "        kernes_size = ,\r\n",
        "        strides = ,\r\n",
        "        padding = \"same\",\r\n",
        "        name = 'discriminator_conv_' + \r\n",
        "    )(x)\r\n",
        "\r\n",
        "    "
      ],
      "execution_count": null,
      "outputs": []
    }
  ]
}